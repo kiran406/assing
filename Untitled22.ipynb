{
 "cells": [
  {
   "cell_type": "code",
   "execution_count": 2,
   "metadata": {},
   "outputs": [
    {
     "name": "stdout",
     "output_type": "stream",
     "text": [
      "jfbebfbeferfrgnlrg\n",
      "      knkrengkelngknerkngl\n",
      "      rglrng;lnrg\n"
     ]
    }
   ],
   "source": [
    "print('''jfbebfbeferfrgnlrg\n",
    "      knkrengkelngknerkngl\n",
    "      rglrng;lnrg''')"
   ]
  },
  {
   "cell_type": "code",
   "execution_count": 25,
   "metadata": {},
   "outputs": [
    {
     "name": "stdout",
     "output_type": "stream",
     "text": [
      "kiran\n",
      "mahadev\n",
      "hosamani\n"
     ]
    }
   ],
   "source": [
    "name='''kiran\n",
    "mahadev\n",
    "hosamani'''\n",
    "print(name)"
   ]
  },
  {
   "cell_type": "code",
   "execution_count": 26,
   "metadata": {},
   "outputs": [
    {
     "name": "stdout",
     "output_type": "stream",
     "text": [
      "kiran\n",
      "mahadev\n",
      "hosamani\n",
      "To fetch last charcter :> i\n",
      "To fetch first charcter :> k\n",
      "To fetch charcter in reverse order :> inamasoh\n",
      "vedaham\n",
      "narik\n",
      "To fetch last charcter :> inamasoh\n",
      "vedaham\n",
      "narik\n"
     ]
    }
   ],
   "source": [
    "print(name)\n",
    "print(\"To fetch last charcter :> \" +name[-1])\n",
    "print(\"To fetch first charcter :> \" +name[0])\n",
    "print(\"To fetch charcter in reverse order :> \" +name[::-1])\n",
    "print(\"To fetch last charcter :> \" +name[::-1])"
   ]
  },
  {
   "cell_type": "code",
   "execution_count": null,
   "metadata": {},
   "outputs": [],
   "source": []
  }
 ],
 "metadata": {
  "kernelspec": {
   "display_name": "Python 3",
   "language": "python",
   "name": "python3"
  },
  "language_info": {
   "codemirror_mode": {
    "name": "ipython",
    "version": 3
   },
   "file_extension": ".py",
   "mimetype": "text/x-python",
   "name": "python",
   "nbconvert_exporter": "python",
   "pygments_lexer": "ipython3",
   "version": "3.7.1"
  }
 },
 "nbformat": 4,
 "nbformat_minor": 2
}
